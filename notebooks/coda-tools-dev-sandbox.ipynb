{
 "cells": [
  {
   "cell_type": "markdown",
   "id": "2bbcce82-88b9-4dc3-81f7-305710b84adf",
   "metadata": {},
   "source": [
    "# coda tools dev sandbox "
   ]
  },
  {
   "cell_type": "markdown",
   "id": "444db49f-f4c2-4d6c-a5bf-83576d2f5c9a",
   "metadata": {},
   "source": [
    "#### Date: 21 October, 2024"
   ]
  },
  {
   "cell_type": "markdown",
   "id": "a0158574-20a2-4c25-bf47-f384dbb80648",
   "metadata": {},
   "source": [
    "Author = {\"name\": \"Thomas Moore\", \"affiliation\": \"CSIRO\", \"email\": \"thomas.moore@csiro.au\", \"orcid\": \"0000-0003-3930-1946\"}"
   ]
  },
  {
   "cell_type": "markdown",
   "id": "c2899b25-cc56-44c1-9140-48169824c5bf",
   "metadata": {},
   "source": [
    "# Install tools locally"
   ]
  },
  {
   "cell_type": "code",
   "execution_count": 1,
   "id": "57562294-57e8-4ce7-b129-8ebf86b2fac0",
   "metadata": {},
   "outputs": [
    {
     "name": "stdout",
     "output_type": "stream",
     "text": [
      "Obtaining file:///g/data/es60/users/thomas_moore/code/coda_tools\n",
      "  Installing build dependencies ... \u001b[?25ldone\n",
      "\u001b[?25h  Checking if build backend supports build_editable ... \u001b[?25ldone\n",
      "\u001b[?25h  Getting requirements to build editable ... \u001b[?25ldone\n",
      "\u001b[?25h  Preparing editable metadata (pyproject.toml) ... \u001b[?25ldone\n",
      "\u001b[?25hBuilding wheels for collected packages: coda_tools\n",
      "  Building editable for coda_tools (pyproject.toml) ... \u001b[?25ldone\n",
      "\u001b[?25h  Created wheel for coda_tools: filename=coda_tools-0.1-0.editable-py3-none-any.whl size=3524 sha256=df014840b6ca8966eb34a27c8b632130ec1d73ad9a8d0fe140b049bcd056e91e\n",
      "  Stored in directory: /jobfs/127448179.gadi-pbs/pip-ephem-wheel-cache-lemghjl3/wheels/eb/f2/34/29bac39bbcba416ac93ee224a15da29808d25d65ada6353d17\n",
      "Successfully built coda_tools\n",
      "Installing collected packages: coda_tools\n",
      "  Attempting uninstall: coda_tools\n",
      "    Found existing installation: coda_tools 0.1\n",
      "    Uninstalling coda_tools-0.1:\n",
      "      Successfully uninstalled coda_tools-0.1\n",
      "Successfully installed coda_tools-0.1\n"
     ]
    }
   ],
   "source": [
    "# this needs to be set via a custom edit per user at the moment\n",
    "!pip install --user -e /g/data/es60/users/thomas_moore/code/coda_tools"
   ]
  },
  {
   "cell_type": "code",
   "execution_count": 3,
   "id": "0215fd7c-caad-49fd-8440-03f2426e6791",
   "metadata": {},
   "outputs": [
    {
     "name": "stdout",
     "output_type": "stream",
     "text": [
      "The autoreload extension is already loaded. To reload it, use:\n",
      "  %reload_ext autoreload\n"
     ]
    }
   ],
   "source": [
    "# Enable autoreload in the notebook\n",
    "%load_ext autoreload\n",
    "%autoreload 1 \n",
    "%aimport coda_tools.util\n",
    "# Importing from your local package util.py\n",
    "from coda_tools.util import test_function"
   ]
  },
  {
   "cell_type": "markdown",
   "id": "d0e7fffe-1565-4a71-9622-dc4266f555df",
   "metadata": {},
   "source": [
    "# Notebook settings"
   ]
  },
  {
   "cell_type": "markdown",
   "id": "c94d2934-9f8a-4495-b32a-46c1ac293870",
   "metadata": {},
   "source": [
    "### filter warnings"
   ]
  },
  {
   "cell_type": "code",
   "execution_count": null,
   "id": "c774b769-3308-49e6-8c1d-90b7e5645ad3",
   "metadata": {},
   "outputs": [],
   "source": [
    "import warnings\n",
    "warnings.filterwarnings(\"ignore\") # Suppress warnings"
   ]
  },
  {
   "cell_type": "markdown",
   "id": "7fcad830-ea7e-4ecd-a64b-b5f9edeb305a",
   "metadata": {},
   "source": [
    "# Dask cluster from config\n",
    "`client, cluster = start_dask_cluster_from_config('netcdf_work')`\n",
    "<br>OR<br>\n",
    "`client, cluster = start_dask_cluster_from_config('zarr_work')`"
   ]
  },
  {
   "cell_type": "code",
   "execution_count": null,
   "id": "6935fbd8-fcb1-4784-912b-7dea47c469b0",
   "metadata": {},
   "outputs": [],
   "source": [
    "client, cluster = start_dask_cluster_from_config('netcdf_work')"
   ]
  },
  {
   "cell_type": "markdown",
   "id": "453d3b34-0f7f-499c-838e-f9d713ee82bc",
   "metadata": {},
   "source": [
    "# Issue: write function to load ACCESS-ESM1.5 data object using intake catalogs at NCI\n",
    "- https://github.com/Thomas-Moore-Creative/ACDtools/issues/1"
   ]
  },
  {
   "cell_type": "markdown",
   "id": "34ff8424-e03b-43a6-aa5a-0632284e71bd",
   "metadata": {},
   "source": [
    "## utilise CMIP6 data catalogs for NCI holdings"
   ]
  },
  {
   "cell_type": "markdown",
   "id": "6a82586a-8ca1-47b9-9794-ddfad8cccd43",
   "metadata": {},
   "source": [
    "##### Information on climate data catalogs across Australian HPC\n",
    "\n",
    "**ACCESS-NRI** https://access-nri-intake-catalog.readthedocs.io/en/latest/usage/how.html <br>\n",
    "**NCI** https://opus.nci.org.au/pages/viewpage.action?pageId=213713098\n"
   ]
  },
  {
   "cell_type": "markdown",
   "id": "4caad95a-0596-4d57-9e83-e8a390dd99a9",
   "metadata": {
    "jp-MarkdownHeadingCollapsed": true
   },
   "source": [
    "##### $\\bigstar$ Get inspiration from ACCESS-NRI intake catalog docs: ACCESS-ESM1-5 CMIP6 example\n",
    "https://access-nri-intake-catalog.readthedocs.io/en/latest/usage/quickstart.html"
   ]
  },
  {
   "cell_type": "markdown",
   "id": "f13e29a8-ca33-4e22-9755-252be78c1800",
   "metadata": {},
   "source": [
    "# import packages"
   ]
  },
  {
   "cell_type": "code",
   "execution_count": null,
   "id": "0b6b05c0-eb4c-4095-b55f-e70b077a10b4",
   "metadata": {},
   "outputs": [],
   "source": [
    "import intake\n",
    "import xarray as xr\n",
    "import numpy as np\n",
    "import gc\n",
    "import json"
   ]
  },
  {
   "cell_type": "markdown",
   "id": "d7658e34-4789-4e9c-a087-64f4e10c504c",
   "metadata": {},
   "source": [
    "### import the ACCESS-NRI catalog"
   ]
  },
  {
   "cell_type": "code",
   "execution_count": null,
   "id": "36899205-6bf0-47c1-8e4a-555bac3a2b9d",
   "metadata": {},
   "outputs": [],
   "source": [
    "catalog = intake.cat.access_nri"
   ]
  },
  {
   "cell_type": "markdown",
   "id": "2af409ca-3553-4ab3-9804-95005f72ac21",
   "metadata": {},
   "source": [
    "### (1) \"I know I want Australian CMIP6 data - so that's fs38 and I need access to that NCI project\""
   ]
  },
  {
   "cell_type": "code",
   "execution_count": null,
   "id": "94c7b943-6547-4793-9b57-efa835e3a863",
   "metadata": {},
   "outputs": [],
   "source": [
    "cmip6_fs38_datastore = catalog.search(name='cmip6_fs38').to_source()"
   ]
  },
  {
   "cell_type": "markdown",
   "id": "aaba1469-c576-4ca0-96b0-38d1ed9ad465",
   "metadata": {},
   "source": [
    "### (2) \"what are the realms covered by cmip6_fs38?\""
   ]
  },
  {
   "cell_type": "code",
   "execution_count": null,
   "id": "f6b104fc-662a-4f76-8578-b9c7acc26e10",
   "metadata": {},
   "outputs": [],
   "source": [
    "report_esm_unique(cmip6_fs38_datastore,keep_list=['realm'])"
   ]
  },
  {
   "cell_type": "markdown",
   "id": "a144145f-d93c-4a82-bcb3-cdb957b3f6dd",
   "metadata": {},
   "source": [
    "### (3) I want to see what variables, over what frequencies, are available in both the 'ocean' & 'oceanBgchem' realms"
   ]
  },
  {
   "cell_type": "code",
   "execution_count": null,
   "id": "27581c4c-5bf1-4338-ad57-f7f94ba5e0e0",
   "metadata": {},
   "outputs": [],
   "source": [
    "cmip6_fs38_ocean_datastore = cmip6_fs38_datastore.search(realm=['ocean','ocnBgchem'])"
   ]
  },
  {
   "cell_type": "code",
   "execution_count": null,
   "id": "bae92dd2-ec5e-47d8-9062-debc67734100",
   "metadata": {
    "scrolled": true
   },
   "outputs": [],
   "source": [
    "[sorted_unique_dict, table_data] = report_esm_unique(cmip6_fs38_ocean_datastore,return_results=True)"
   ]
  },
  {
   "cell_type": "markdown",
   "id": "f6ec2e28-132d-4233-a22d-fd6e027ab2a8",
   "metadata": {},
   "source": [
    "# what is the long name of a particular variable?"
   ]
  },
  {
   "cell_type": "code",
   "execution_count": null,
   "id": "f9e1f15c-533a-4c33-ba0f-ada8e07b5399",
   "metadata": {
    "scrolled": true
   },
   "outputs": [],
   "source": [
    "var_name_info(cmip6_fs38_ocean_datastore,'intpp')"
   ]
  },
  {
   "cell_type": "markdown",
   "id": "8e941431-ba02-41d4-aad8-6217f0658a0f",
   "metadata": {},
   "source": [
    "# filter catalog for final ACCESS-ESM1.5 dataset"
   ]
  },
  {
   "cell_type": "code",
   "execution_count": null,
   "id": "9cfe8097-494d-4187-8e9e-4e741499bfa6",
   "metadata": {},
   "outputs": [],
   "source": [
    "final_search = cmip6_fs38_ocean_datastore.search(file_type='l',\n",
    "                    variable_id='intpp',source_id='ACCESS-ESM1-5',experiment_id='historical')"
   ]
  },
  {
   "cell_type": "code",
   "execution_count": null,
   "id": "aded047f-d413-4235-bc58-407d143bd4ca",
   "metadata": {},
   "outputs": [],
   "source": [
    "report_esm_unique(final_search)"
   ]
  },
  {
   "cell_type": "markdown",
   "id": "d36a2d20-9cf1-46da-a9b7-38fade30dd64",
   "metadata": {},
   "source": [
    "# what is the chunking of the files in this final_search catalog?"
   ]
  },
  {
   "cell_type": "code",
   "execution_count": null,
   "id": "e3613380-60b7-4ea7-a6f7-cfdfe936c9c9",
   "metadata": {},
   "outputs": [],
   "source": [
    "final_search.df['path'].iloc[0]"
   ]
  },
  {
   "cell_type": "code",
   "execution_count": null,
   "id": "bbe2d392-1f07-41cf-a12d-3d27403e7418",
   "metadata": {},
   "outputs": [],
   "source": [
    "find_chunking_info(final_search,'intpp',return_results=False)"
   ]
  },
  {
   "cell_type": "markdown",
   "id": "5c5498b2-b0b2-4012-9be7-2eae85487bf8",
   "metadata": {},
   "source": [
    "# load without specifying any chunking"
   ]
  },
  {
   "cell_type": "code",
   "execution_count": null,
   "id": "0d946d73-29be-42a7-8f02-6c622f0d4277",
   "metadata": {},
   "outputs": [],
   "source": [
    "%%time\n",
    "ds_ESM15_esorted = load_ACCESS_ESM_ensemble(final_search)"
   ]
  },
  {
   "cell_type": "code",
   "execution_count": null,
   "id": "2e8bf991-5212-438e-a82d-70cfefd873b8",
   "metadata": {},
   "outputs": [],
   "source": [
    "ds_ESM15_esorted"
   ]
  },
  {
   "cell_type": "markdown",
   "id": "da300175-a28a-4090-9992-f53b9e9f3994",
   "metadata": {},
   "source": [
    "#### One still needs to know what dimensions (1, 300, 360 ; ) refers to and something about MB size per chunk to set the time to 220 . . . these rules of thumb should be in the yaml settings file until much more complicated heuristics could be coded"
   ]
  },
  {
   "cell_type": "code",
   "execution_count": null,
   "id": "d7b136e0-30f5-4096-a5f5-d71a3d92b0b3",
   "metadata": {},
   "outputs": [],
   "source": [
    "%%time\n",
    "ds_ESM15_esorted = load_ACCESS_ESM_ensemble(final_search,chunking_settings={'chunks':{'member':1,'time':220,'j':300,'i':360}})"
   ]
  },
  {
   "cell_type": "code",
   "execution_count": null,
   "id": "63ead743-6362-4949-8f26-1f2b81beb451",
   "metadata": {},
   "outputs": [],
   "source": [
    "ds_ESM15_esorted"
   ]
  },
  {
   "cell_type": "code",
   "execution_count": null,
   "id": "11eb1573-f577-409c-ad15-afe1dc7716c2",
   "metadata": {},
   "outputs": [],
   "source": [
    "%%time\n",
    "ds_ESM15_esorted = load_ACCESS_ESM_ensemble(final_search,chunking_key='ACCESS_ESM15_2D')"
   ]
  },
  {
   "cell_type": "code",
   "execution_count": null,
   "id": "13e76dea-0d76-473a-affa-dddc400b0f03",
   "metadata": {},
   "outputs": [],
   "source": [
    "ds_ESM15_esorted"
   ]
  },
  {
   "cell_type": "code",
   "execution_count": null,
   "id": "bfe1f724-a5b6-47b9-8733-541730ea942a",
   "metadata": {},
   "outputs": [],
   "source": [
    "ds_ESM15_esorted.isel(member=0).mean('time').intpp.plot()"
   ]
  },
  {
   "cell_type": "markdown",
   "id": "89da06cc-4075-45a1-a3c3-135256b285b6",
   "metadata": {},
   "source": [
    "# 3D dataset?"
   ]
  },
  {
   "cell_type": "code",
   "execution_count": null,
   "id": "d32c6dec-493b-4e9a-bfd1-4368cbc04efe",
   "metadata": {},
   "outputs": [],
   "source": [
    "thetao_search = cmip6_fs38_ocean_datastore.search(file_type='l',\n",
    "                    variable_id='thetao',source_id='ACCESS-ESM1-5',experiment_id='historical')"
   ]
  },
  {
   "cell_type": "code",
   "execution_count": null,
   "id": "5b71b02d-460e-4843-8eaf-eedca514a488",
   "metadata": {},
   "outputs": [],
   "source": [
    "report_esm_unique(thetao_search)"
   ]
  },
  {
   "cell_type": "code",
   "execution_count": null,
   "id": "deea68a9-1b34-498d-9e98-f5b323f8ec46",
   "metadata": {},
   "outputs": [],
   "source": [
    "find_chunking_info(thetao_search,'thetao',return_results=False)"
   ]
  },
  {
   "cell_type": "code",
   "execution_count": null,
   "id": "61745e7f-ea3a-4780-a295-b7e8b5fa2c6e",
   "metadata": {},
   "outputs": [],
   "source": [
    "find_chunking_info(thetao_search,'thetao',return_results=True)"
   ]
  },
  {
   "cell_type": "code",
   "execution_count": null,
   "id": "cbabe34f-e1d6-4daa-b8de-3e07e7578919",
   "metadata": {},
   "outputs": [],
   "source": [
    "xr.open_mfdataset('/g/data/fs38/publications/CMIP6/CMIP/CSIRO/ACCESS-ESM1-5/historical/r3i1p1f1/Omon/thetao/gn/v20191203/thetao_Omon_ACCESS-ESM1-5_historical_r3i1p1f1_gn_189001-189912.nc')"
   ]
  },
  {
   "cell_type": "code",
   "execution_count": null,
   "id": "6b69d82a-f6f5-4761-8ebb-82136940e04c",
   "metadata": {},
   "outputs": [],
   "source": [
    "%%time\n",
    "ds_ESM15_esorted = load_ACCESS_ESM_ensemble(thetao_search)"
   ]
  },
  {
   "cell_type": "code",
   "execution_count": null,
   "id": "6bced19a-9d0e-4cdc-84cc-3ba6ac30ab44",
   "metadata": {},
   "outputs": [],
   "source": [
    "ds_ESM15_esorted"
   ]
  },
  {
   "cell_type": "code",
   "execution_count": null,
   "id": "1dab745c-8e8b-4609-9846-a62a59df095a",
   "metadata": {},
   "outputs": [],
   "source": [
    "%%time\n",
    "ds_ESM15_esorted = load_ACCESS_ESM_ensemble(thetao_search,chunking_key='ACCESS_ESM15_3D')"
   ]
  },
  {
   "cell_type": "code",
   "execution_count": null,
   "id": "2646a9cd-1abd-490c-b978-bb397dbe13ba",
   "metadata": {},
   "outputs": [],
   "source": [
    "ds_ESM15_esorted"
   ]
  },
  {
   "cell_type": "markdown",
   "id": "8c8d0ff8-d658-42ec-afa0-6be1b60049c2",
   "metadata": {},
   "source": [
    "# let's use the tools as they exist to try to start the workflow"
   ]
  },
  {
   "cell_type": "markdown",
   "id": "5ccb460e-7d6c-4f53-9a90-01868223d7c9",
   "metadata": {},
   "source": [
    "## I want Australian CMIP6 data"
   ]
  },
  {
   "cell_type": "code",
   "execution_count": null,
   "id": "2339501e-5074-4594-95ba-f1b0cd3dfa65",
   "metadata": {},
   "outputs": [],
   "source": [
    "cmip6_fs38_datastore = load_cmip6_fs38_datastore()"
   ]
  },
  {
   "cell_type": "code",
   "execution_count": null,
   "id": "d4328d99-8b76-4d0e-abd3-6af417009ebf",
   "metadata": {},
   "outputs": [],
   "source": [
    "report_esm_unique(cmip6_fs38_datastore.search(**load_config()['catalog_search_query_dict']['ACCESS_ESM15']['CSEPTA']))"
   ]
  },
  {
   "cell_type": "code",
   "execution_count": null,
   "id": "06a01952-f988-4172-a9fc-430f0f772442",
   "metadata": {},
   "outputs": [],
   "source": [
    "CSEPTA_intpp_catalog = cmip6_fs38_datastore.search(**load_config()['catalog_search_query_dict']['ACCESS_ESM15']['CSEPTA'])"
   ]
  },
  {
   "cell_type": "code",
   "execution_count": null,
   "id": "652514aa-dbd4-402f-a027-33f6f6ecbe7c",
   "metadata": {},
   "outputs": [],
   "source": [
    "CSEPTA_intpp_catalog"
   ]
  },
  {
   "cell_type": "code",
   "execution_count": null,
   "id": "2ca2df31-9592-4b16-bd86-dc65351f2db7",
   "metadata": {},
   "outputs": [],
   "source": [
    "show_methods(CSEPTA_intpp_catalog)"
   ]
  },
  {
   "cell_type": "code",
   "execution_count": null,
   "id": "ba979873-b189-48aa-867e-34b3eee5d1df",
   "metadata": {},
   "outputs": [],
   "source": [
    "report_esm_unique(CSEPTA_intpp_catalog)"
   ]
  },
  {
   "cell_type": "code",
   "execution_count": null,
   "id": "c5f7da0e-104f-4be6-ad7e-fe4ba1a0b457",
   "metadata": {},
   "outputs": [],
   "source": [
    "CSEPTA_intpp_catalog.unique()['path']"
   ]
  },
  {
   "cell_type": "code",
   "execution_count": null,
   "id": "4308ec0b-4706-485b-8df3-340245eb031c",
   "metadata": {},
   "outputs": [],
   "source": [
    "search_dict = dict(experiment_id = 'historical',source_id = 'ACCESS-ESM1-5',variable_id = ['intpp'],realm = ['ocnBgchem'], frequency = 'mon',file_type='f')"
   ]
  },
  {
   "cell_type": "code",
   "execution_count": null,
   "id": "d983489b-86f9-4794-99c2-3797dcb5bf2a",
   "metadata": {},
   "outputs": [],
   "source": [
    "search = cmip6_fs38_datastore.search(**search_dict)\n",
    "search"
   ]
  },
  {
   "cell_type": "code",
   "execution_count": null,
   "id": "1418e808-69db-47c8-b44c-ae4cfd946068",
   "metadata": {},
   "outputs": [],
   "source": [
    "search.unique()['path']"
   ]
  },
  {
   "cell_type": "code",
   "execution_count": null,
   "id": "1285621f-e48d-4c4b-a7e9-109fb25c7e8b",
   "metadata": {},
   "outputs": [],
   "source": []
  },
  {
   "cell_type": "code",
   "execution_count": null,
   "id": "07621ee1-4a90-4e76-a0ee-ba4f9c3146ac",
   "metadata": {},
   "outputs": [],
   "source": []
  },
  {
   "cell_type": "code",
   "execution_count": null,
   "id": "1ffcffa7-b292-44e0-9b8d-ffaf8141419e",
   "metadata": {},
   "outputs": [],
   "source": []
  },
  {
   "cell_type": "code",
   "execution_count": null,
   "id": "a14dfaa8-cf48-4208-ab43-672cccea5ba8",
   "metadata": {},
   "outputs": [],
   "source": []
  },
  {
   "cell_type": "code",
   "execution_count": null,
   "id": "3c54f2df-5742-44bb-b8d9-8abb293d74d8",
   "metadata": {},
   "outputs": [],
   "source": []
  },
  {
   "cell_type": "code",
   "execution_count": null,
   "id": "1c27cbca-ad25-4be3-aafb-9c03127fc2be",
   "metadata": {},
   "outputs": [],
   "source": []
  },
  {
   "cell_type": "code",
   "execution_count": null,
   "id": "23cb7356-3205-4c61-88f5-7719809f0b42",
   "metadata": {},
   "outputs": [],
   "source": []
  },
  {
   "cell_type": "code",
   "execution_count": null,
   "id": "a392807f-d73b-42ec-809e-e7ecfc5b322c",
   "metadata": {},
   "outputs": [],
   "source": []
  },
  {
   "cell_type": "code",
   "execution_count": null,
   "id": "5d432e5f-9562-4401-b617-0f414b336774",
   "metadata": {},
   "outputs": [],
   "source": []
  },
  {
   "cell_type": "code",
   "execution_count": null,
   "id": "2541f995-a47b-4aff-9441-45cef192065e",
   "metadata": {},
   "outputs": [],
   "source": []
  },
  {
   "cell_type": "code",
   "execution_count": null,
   "id": "2567cb5a-28b1-4507-862a-2cea226fae41",
   "metadata": {},
   "outputs": [],
   "source": []
  },
  {
   "cell_type": "code",
   "execution_count": null,
   "id": "c9999167-026c-47bd-8d42-f51ac29be25b",
   "metadata": {},
   "outputs": [],
   "source": [
    "CSEPTA_datatree = CSEPTA_intpp_catalog.to_datatree(index=[\"experiment_id\"],progressbar=False)"
   ]
  },
  {
   "cell_type": "code",
   "execution_count": null,
   "id": "d87da801-b255-48d6-b0ed-7cc2c5bfa55e",
   "metadata": {},
   "outputs": [],
   "source": [
    "# Iterate over the experiments in the datatree\n",
    "for experiment_id, node in CSEPTA_datatree.items():\n",
    "    # Access the dataset\n",
    "    ds = node.ds\n",
    "    print(f\"Working with dataset for experiment: {experiment_id}\")\n",
    "    \n",
    "    # Perform operations on the dataset, for example, print variable names\n",
    "    print(ds.variables)"
   ]
  },
  {
   "cell_type": "code",
   "execution_count": null,
   "id": "ddaecc46-7c5d-428a-9269-c5a378c149f3",
   "metadata": {},
   "outputs": [],
   "source": []
  }
 ],
 "metadata": {
  "kernelspec": {
   "display_name": "Python 3 (ipykernel)",
   "language": "python",
   "name": "python3"
  },
  "language_info": {
   "codemirror_mode": {
    "name": "ipython",
    "version": 3
   },
   "file_extension": ".py",
   "mimetype": "text/x-python",
   "name": "python",
   "nbconvert_exporter": "python",
   "pygments_lexer": "ipython3",
   "version": "3.10.13"
  }
 },
 "nbformat": 4,
 "nbformat_minor": 5
}
